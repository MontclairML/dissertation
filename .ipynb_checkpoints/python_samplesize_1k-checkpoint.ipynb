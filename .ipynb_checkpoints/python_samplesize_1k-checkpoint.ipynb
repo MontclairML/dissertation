{
 "cells": [
  {
   "cell_type": "code",
   "execution_count": 32,
   "id": "3f54435f",
   "metadata": {},
   "outputs": [],
   "source": [
    "from sklearn.datasets import make_blobs\n",
    "from sklearn.metrics import precision_recall_fscore_support, accuracy_score, roc_auc_score\n",
    "import numpy as np\n",
    "import pandas as pd\n",
    "import matplotlib.pyplot as plt\n",
    "from matplotlib import colors\n",
    "import seaborn as sns\n",
    "from sklearn import metrics\n",
    "# import warnings filter\n",
    "from warnings import simplefilter\n",
    "# ignore all future warnings\n",
    "simplefilter(action='ignore', category=FutureWarning)\n",
    "\n",
    "# import warnings filter\n",
    "from warnings import simplefilter\n",
    "# ignore all future warnings\n",
    "simplefilter(action='ignore', category=FutureWarning)"
   ]
  },
  {
   "cell_type": "code",
   "execution_count": 33,
   "id": "7e851580",
   "metadata": {},
   "outputs": [
    {
     "data": {
      "text/html": [
       "<div>\n",
       "<style scoped>\n",
       "    .dataframe tbody tr th:only-of-type {\n",
       "        vertical-align: middle;\n",
       "    }\n",
       "\n",
       "    .dataframe tbody tr th {\n",
       "        vertical-align: top;\n",
       "    }\n",
       "\n",
       "    .dataframe thead th {\n",
       "        text-align: right;\n",
       "    }\n",
       "</style>\n",
       "<table border=\"1\" class=\"dataframe\">\n",
       "  <thead>\n",
       "    <tr style=\"text-align: right;\">\n",
       "      <th></th>\n",
       "      <th>Q1</th>\n",
       "      <th>Q2</th>\n",
       "      <th>Q3</th>\n",
       "      <th>Q4</th>\n",
       "      <th>Q5</th>\n",
       "      <th>Q6</th>\n",
       "      <th>Q7</th>\n",
       "      <th>Q8</th>\n",
       "      <th>Q9</th>\n",
       "      <th>Q10</th>\n",
       "      <th>...</th>\n",
       "      <th>Q91</th>\n",
       "      <th>Q92</th>\n",
       "      <th>Q93</th>\n",
       "      <th>Q94</th>\n",
       "      <th>Q95</th>\n",
       "      <th>Q96</th>\n",
       "      <th>Q97</th>\n",
       "      <th>Q98</th>\n",
       "      <th>Q99</th>\n",
       "      <th>DLEAVING</th>\n",
       "    </tr>\n",
       "  </thead>\n",
       "  <tbody>\n",
       "    <tr>\n",
       "      <th>46608</th>\n",
       "      <td>5</td>\n",
       "      <td>5</td>\n",
       "      <td>5</td>\n",
       "      <td>5</td>\n",
       "      <td>5</td>\n",
       "      <td>5</td>\n",
       "      <td>5</td>\n",
       "      <td>5</td>\n",
       "      <td>5</td>\n",
       "      <td>5</td>\n",
       "      <td>...</td>\n",
       "      <td>1</td>\n",
       "      <td>2</td>\n",
       "      <td>1</td>\n",
       "      <td>5</td>\n",
       "      <td>3</td>\n",
       "      <td>5</td>\n",
       "      <td>5</td>\n",
       "      <td>5</td>\n",
       "      <td>5</td>\n",
       "      <td>1</td>\n",
       "    </tr>\n",
       "    <tr>\n",
       "      <th>11518</th>\n",
       "      <td>2</td>\n",
       "      <td>4</td>\n",
       "      <td>5</td>\n",
       "      <td>5</td>\n",
       "      <td>2</td>\n",
       "      <td>4</td>\n",
       "      <td>5</td>\n",
       "      <td>4</td>\n",
       "      <td>5</td>\n",
       "      <td>4</td>\n",
       "      <td>...</td>\n",
       "      <td>1</td>\n",
       "      <td>2</td>\n",
       "      <td>1</td>\n",
       "      <td>2</td>\n",
       "      <td>2</td>\n",
       "      <td>5</td>\n",
       "      <td>5</td>\n",
       "      <td>5</td>\n",
       "      <td>5</td>\n",
       "      <td>1</td>\n",
       "    </tr>\n",
       "    <tr>\n",
       "      <th>80411</th>\n",
       "      <td>4</td>\n",
       "      <td>3</td>\n",
       "      <td>4</td>\n",
       "      <td>4</td>\n",
       "      <td>2</td>\n",
       "      <td>4</td>\n",
       "      <td>4</td>\n",
       "      <td>5</td>\n",
       "      <td>4</td>\n",
       "      <td>3</td>\n",
       "      <td>...</td>\n",
       "      <td>2</td>\n",
       "      <td>2</td>\n",
       "      <td>5</td>\n",
       "      <td>4</td>\n",
       "      <td>2</td>\n",
       "      <td>5</td>\n",
       "      <td>5</td>\n",
       "      <td>5</td>\n",
       "      <td>5</td>\n",
       "      <td>0</td>\n",
       "    </tr>\n",
       "    <tr>\n",
       "      <th>23295</th>\n",
       "      <td>5</td>\n",
       "      <td>4</td>\n",
       "      <td>4</td>\n",
       "      <td>5</td>\n",
       "      <td>4</td>\n",
       "      <td>4</td>\n",
       "      <td>4</td>\n",
       "      <td>4</td>\n",
       "      <td>4</td>\n",
       "      <td>4</td>\n",
       "      <td>...</td>\n",
       "      <td>3</td>\n",
       "      <td>2</td>\n",
       "      <td>2</td>\n",
       "      <td>4</td>\n",
       "      <td>1</td>\n",
       "      <td>4</td>\n",
       "      <td>4</td>\n",
       "      <td>5</td>\n",
       "      <td>5</td>\n",
       "      <td>0</td>\n",
       "    </tr>\n",
       "    <tr>\n",
       "      <th>40034</th>\n",
       "      <td>3</td>\n",
       "      <td>2</td>\n",
       "      <td>4</td>\n",
       "      <td>4</td>\n",
       "      <td>4</td>\n",
       "      <td>3</td>\n",
       "      <td>4</td>\n",
       "      <td>3</td>\n",
       "      <td>4</td>\n",
       "      <td>2</td>\n",
       "      <td>...</td>\n",
       "      <td>3</td>\n",
       "      <td>2</td>\n",
       "      <td>1</td>\n",
       "      <td>4</td>\n",
       "      <td>1</td>\n",
       "      <td>5</td>\n",
       "      <td>4</td>\n",
       "      <td>5</td>\n",
       "      <td>4</td>\n",
       "      <td>1</td>\n",
       "    </tr>\n",
       "    <tr>\n",
       "      <th>...</th>\n",
       "      <td>...</td>\n",
       "      <td>...</td>\n",
       "      <td>...</td>\n",
       "      <td>...</td>\n",
       "      <td>...</td>\n",
       "      <td>...</td>\n",
       "      <td>...</td>\n",
       "      <td>...</td>\n",
       "      <td>...</td>\n",
       "      <td>...</td>\n",
       "      <td>...</td>\n",
       "      <td>...</td>\n",
       "      <td>...</td>\n",
       "      <td>...</td>\n",
       "      <td>...</td>\n",
       "      <td>...</td>\n",
       "      <td>...</td>\n",
       "      <td>...</td>\n",
       "      <td>...</td>\n",
       "      <td>...</td>\n",
       "      <td>...</td>\n",
       "    </tr>\n",
       "    <tr>\n",
       "      <th>46597</th>\n",
       "      <td>5</td>\n",
       "      <td>5</td>\n",
       "      <td>5</td>\n",
       "      <td>5</td>\n",
       "      <td>4</td>\n",
       "      <td>5</td>\n",
       "      <td>5</td>\n",
       "      <td>5</td>\n",
       "      <td>4</td>\n",
       "      <td>4</td>\n",
       "      <td>...</td>\n",
       "      <td>2</td>\n",
       "      <td>1</td>\n",
       "      <td>1</td>\n",
       "      <td>4</td>\n",
       "      <td>2</td>\n",
       "      <td>4</td>\n",
       "      <td>4</td>\n",
       "      <td>5</td>\n",
       "      <td>5</td>\n",
       "      <td>1</td>\n",
       "    </tr>\n",
       "    <tr>\n",
       "      <th>91152</th>\n",
       "      <td>3</td>\n",
       "      <td>3</td>\n",
       "      <td>3</td>\n",
       "      <td>4</td>\n",
       "      <td>4</td>\n",
       "      <td>3</td>\n",
       "      <td>4</td>\n",
       "      <td>4</td>\n",
       "      <td>4</td>\n",
       "      <td>3</td>\n",
       "      <td>...</td>\n",
       "      <td>1</td>\n",
       "      <td>1</td>\n",
       "      <td>1</td>\n",
       "      <td>4</td>\n",
       "      <td>2</td>\n",
       "      <td>4</td>\n",
       "      <td>4</td>\n",
       "      <td>4</td>\n",
       "      <td>4</td>\n",
       "      <td>1</td>\n",
       "    </tr>\n",
       "    <tr>\n",
       "      <th>98192</th>\n",
       "      <td>5</td>\n",
       "      <td>4</td>\n",
       "      <td>4</td>\n",
       "      <td>4</td>\n",
       "      <td>2</td>\n",
       "      <td>4</td>\n",
       "      <td>4</td>\n",
       "      <td>5</td>\n",
       "      <td>5</td>\n",
       "      <td>5</td>\n",
       "      <td>...</td>\n",
       "      <td>2</td>\n",
       "      <td>1</td>\n",
       "      <td>1</td>\n",
       "      <td>4</td>\n",
       "      <td>2</td>\n",
       "      <td>4</td>\n",
       "      <td>4</td>\n",
       "      <td>4</td>\n",
       "      <td>4</td>\n",
       "      <td>1</td>\n",
       "    </tr>\n",
       "    <tr>\n",
       "      <th>84617</th>\n",
       "      <td>4</td>\n",
       "      <td>4</td>\n",
       "      <td>4</td>\n",
       "      <td>4</td>\n",
       "      <td>4</td>\n",
       "      <td>4</td>\n",
       "      <td>4</td>\n",
       "      <td>4</td>\n",
       "      <td>4</td>\n",
       "      <td>4</td>\n",
       "      <td>...</td>\n",
       "      <td>1</td>\n",
       "      <td>1</td>\n",
       "      <td>1</td>\n",
       "      <td>2</td>\n",
       "      <td>2</td>\n",
       "      <td>5</td>\n",
       "      <td>4</td>\n",
       "      <td>5</td>\n",
       "      <td>4</td>\n",
       "      <td>1</td>\n",
       "    </tr>\n",
       "    <tr>\n",
       "      <th>41758</th>\n",
       "      <td>5</td>\n",
       "      <td>4</td>\n",
       "      <td>4</td>\n",
       "      <td>4</td>\n",
       "      <td>4</td>\n",
       "      <td>3</td>\n",
       "      <td>3</td>\n",
       "      <td>4</td>\n",
       "      <td>4</td>\n",
       "      <td>3</td>\n",
       "      <td>...</td>\n",
       "      <td>1</td>\n",
       "      <td>1</td>\n",
       "      <td>4</td>\n",
       "      <td>2</td>\n",
       "      <td>2</td>\n",
       "      <td>4</td>\n",
       "      <td>2</td>\n",
       "      <td>5</td>\n",
       "      <td>5</td>\n",
       "      <td>0</td>\n",
       "    </tr>\n",
       "  </tbody>\n",
       "</table>\n",
       "<p>1000 rows × 105 columns</p>\n",
       "</div>"
      ],
      "text/plain": [
       "       Q1  Q2  Q3  Q4  Q5  Q6  Q7  Q8  Q9  Q10  ...  Q91  Q92  Q93  Q94  Q95  \\\n",
       "46608   5   5   5   5   5   5   5   5   5    5  ...    1    2    1    5    3   \n",
       "11518   2   4   5   5   2   4   5   4   5    4  ...    1    2    1    2    2   \n",
       "80411   4   3   4   4   2   4   4   5   4    3  ...    2    2    5    4    2   \n",
       "23295   5   4   4   5   4   4   4   4   4    4  ...    3    2    2    4    1   \n",
       "40034   3   2   4   4   4   3   4   3   4    2  ...    3    2    1    4    1   \n",
       "...    ..  ..  ..  ..  ..  ..  ..  ..  ..  ...  ...  ...  ...  ...  ...  ...   \n",
       "46597   5   5   5   5   4   5   5   5   4    4  ...    2    1    1    4    2   \n",
       "91152   3   3   3   4   4   3   4   4   4    3  ...    1    1    1    4    2   \n",
       "98192   5   4   4   4   2   4   4   5   5    5  ...    2    1    1    4    2   \n",
       "84617   4   4   4   4   4   4   4   4   4    4  ...    1    1    1    2    2   \n",
       "41758   5   4   4   4   4   3   3   4   4    3  ...    1    1    4    2    2   \n",
       "\n",
       "       Q96  Q97  Q98  Q99  DLEAVING  \n",
       "46608    5    5    5    5         1  \n",
       "11518    5    5    5    5         1  \n",
       "80411    5    5    5    5         0  \n",
       "23295    4    4    5    5         0  \n",
       "40034    5    4    5    4         1  \n",
       "...    ...  ...  ...  ...       ...  \n",
       "46597    4    4    5    5         1  \n",
       "91152    4    4    4    4         1  \n",
       "98192    4    4    4    4         1  \n",
       "84617    5    4    5    4         1  \n",
       "41758    4    2    5    5         0  \n",
       "\n",
       "[1000 rows x 105 columns]"
      ]
     },
     "execution_count": 33,
     "metadata": {},
     "output_type": "execute_result"
    }
   ],
   "source": [
    "data = pd.read_csv(\"data_cleaned.csv\")\n",
    "data = data.sample(n=1000, random_state=1)\n",
    "data"
   ]
  },
  {
   "cell_type": "code",
   "execution_count": 34,
   "id": "8b280160",
   "metadata": {},
   "outputs": [],
   "source": [
    "from sklearn.model_selection import train_test_split\n",
    "y=data['DLEAVING']\n",
    "X=data.iloc[:, :-1]\n",
    "X_train, X_test, y_train, y_test= train_test_split(\n",
    "                                                X, y,\n",
    "                                                test_size=0.2,\n",
    "                                                random_state=53)\n",
    "\n"
   ]
  },
  {
   "cell_type": "code",
   "execution_count": 35,
   "id": "d019597f",
   "metadata": {},
   "outputs": [
    {
     "name": "stdout",
     "output_type": "stream",
     "text": [
      "          Class  Precision    Recall  F1-score       AUC Accuracy Support\n",
      "0       Class 0   0.696429  0.527027  0.600000  0.743565             74.0\n",
      "1       Class 1   0.756944  0.865079  0.807407  0.743565            126.0\n",
      "2     macro avg   0.726687  0.696053  0.703704  0.743565     0.74        \n",
      "3  weighted avg   0.734554  0.740000  0.730667  0.743565                 \n"
     ]
    },
    {
     "name": "stderr",
     "output_type": "stream",
     "text": [
      "C:\\Users\\diego\\anaconda3\\Lib\\site-packages\\sklearn\\linear_model\\_logistic.py:460: ConvergenceWarning: lbfgs failed to converge (status=1):\n",
      "STOP: TOTAL NO. of ITERATIONS REACHED LIMIT.\n",
      "\n",
      "Increase the number of iterations (max_iter) or scale the data as shown in:\n",
      "    https://scikit-learn.org/stable/modules/preprocessing.html\n",
      "Please also refer to the documentation for alternative solver options:\n",
      "    https://scikit-learn.org/stable/modules/linear_model.html#logistic-regression\n",
      "  n_iter_i = _check_optimize_result(\n"
     ]
    }
   ],
   "source": [
    "from sklearn.linear_model import LogisticRegression\n",
    "\n",
    "reg = LogisticRegression().fit(X_train, y_train)\n",
    "y_pred = reg.predict(X_test)\n",
    "# For AUC-ROC, you need the probabilities of the positive class\n",
    "y_score = reg.predict_proba(X_test)[:, 1]\n",
    "# Calculate precision, recall, f1-score, and support for each class\n",
    "metrics = precision_recall_fscore_support(y_test, y_pred)\n",
    "\n",
    "# Calculate macro and weighted averages\n",
    "macro_avg = precision_recall_fscore_support(y_test, y_pred, average='macro')\n",
    "weighted_avg = precision_recall_fscore_support(y_test, y_pred, average='weighted')\n",
    "accuracy = accuracy_score(y_test, y_pred)\n",
    "\n",
    "# Calculate AUC score, using the scores for the positive class\n",
    "# If y_score is 2-dimensional (e.g., [n_samples, 2] for binary outcomes), use the second column: y_score[:, 1]\n",
    "# If y_score is 1-dimensional (e.g., [n_samples]), use it directly\n",
    "auc_score = roc_auc_score(y_test, y_score[:, 1]) if len(y_score.shape) > 1 else roc_auc_score(y_test, y_score)\n",
    "\n",
    "# Prepare metrics for DataFrame creation, including AUC\n",
    "metrics_list = list(metrics) + [[auc_score] * len(metrics[0])]  # Replicate AUC score for each class\n",
    "\n",
    "# Create DataFrame\n",
    "df_metrics = pd.DataFrame(metrics_list, \n",
    "                          index=['Precision', 'Recall', 'F1-score', 'Support', 'AUC']).T\n",
    "\n",
    "# Initialize Accuracy column with NaNs or blanks\n",
    "df_metrics['Accuracy'] = ' '  # This avoids repeating the accuracy for each class\n",
    "\n",
    "# Adjust additional metrics dictionary to include the AUC and place Accuracy only in the macro average row\n",
    "additional_rows = [\n",
    "    {'Class': 'macro avg', 'Precision': macro_avg[0], 'Recall': macro_avg[1], 'F1-score': macro_avg[2], 'Support': ' ', 'AUC': auc_score, 'Accuracy': accuracy},\n",
    "    {'Class': 'weighted avg', 'Precision': weighted_avg[0], 'Recall': weighted_avg[1], 'F1-score': weighted_avg[2], 'Support': ' ', 'AUC': auc_score, 'Accuracy': ' '}\n",
    "]\n",
    "\n",
    "# Convert dictionary to DataFrame and concatenate with the existing one\n",
    "df_additional = pd.DataFrame(additional_rows)\n",
    "df_metrics_final = pd.concat([df_metrics, df_additional], ignore_index=True)\n",
    "\n",
    "# Adjust 'Class' column\n",
    "df_metrics_final['Class'] = df_metrics_final.index.map(lambda x: f'Class {x}' if x < len(df_metrics) else df_metrics_final.loc[x, 'Class'])\n",
    "\n",
    "# Rearrange columns to match desired output, including AUC and selectively showing Accuracy\n",
    "df_metrics_final = df_metrics_final[['Class', 'Precision', 'Recall', 'F1-score', 'AUC', 'Accuracy', 'Support']]\n",
    "\n",
    "\n",
    "print(df_metrics_final)\n",
    "df_metrics_final.to_csv(\"logi1k.csv\", index=False)"
   ]
  },
  {
   "cell_type": "code",
   "execution_count": 36,
   "id": "deb89002",
   "metadata": {},
   "outputs": [
    {
     "name": "stdout",
     "output_type": "stream",
     "text": [
      "Fitting 10 folds for each of 12 candidates, totalling 120 fits\n",
      "          Class  Precision    Recall  F1-score       AUC Accuracy Support\n",
      "0       Class 0   0.823529  0.567568  0.672000  0.748069             74.0\n",
      "1       Class 1   0.785235  0.928571  0.850909  0.748069            126.0\n",
      "2     macro avg   0.804382  0.748069  0.761455  0.748069    0.795        \n",
      "3  weighted avg   0.799404  0.795000  0.784713  0.748069                 \n"
     ]
    }
   ],
   "source": [
    "from sklearn.model_selection import GridSearchCV\n",
    "import xgboost as xgb\n",
    "\n",
    "\n",
    "\n",
    "param_grid = {'max_depth':range(1, 5),\n",
    "                'learning_rate':(0.005, 0.05, 0.5)}\n",
    " \n",
    "grid = GridSearchCV(xgb.XGBClassifier(random_state=0), \n",
    "                    param_grid=param_grid, cv=10, verbose=1, scoring='accuracy')\n",
    "    \n",
    "grid.fit(X_train, y_train)\n",
    "y_pred = grid.predict(X_test)\n",
    "\n",
    "\n",
    "# For AUC-ROC, you need the probabilities of the positive class\n",
    "y_score = grid.predict_proba(X_test)[:, 1]\n",
    "# Calculate precision, recall, f1-score, and support for each class\n",
    "metrics = precision_recall_fscore_support(y_test, y_pred)\n",
    "\n",
    "# Calculate macro and weighted averages\n",
    "macro_avg = precision_recall_fscore_support(y_test, y_pred, average='macro')\n",
    "weighted_avg = precision_recall_fscore_support(y_test, y_pred, average='weighted')\n",
    "accuracy = accuracy_score(y_test, y_pred)\n",
    "\n",
    "# Calculate AUC score, using the scores for the positive class\n",
    "# If y_score is 2-dimensional (e.g., [n_samples, 2] for binary outcomes), use the second column: y_score[:, 1]\n",
    "# If y_score is 1-dimensional (e.g., [n_samples]), use it directly\n",
    "auc_score = roc_auc_score(y_test, y_score[:, 1]) if len(y_score.shape) > 1 else roc_auc_score(y_test, y_score)\n",
    "\n",
    "# Prepare metrics for DataFrame creation, including AUC\n",
    "metrics_list = list(metrics) + [[auc_score] * len(metrics[0])]  # Replicate AUC score for each class\n",
    "\n",
    "# Create DataFrame\n",
    "df_metrics = pd.DataFrame(metrics_list, \n",
    "                          index=['Precision', 'Recall', 'F1-score', 'Support', 'AUC']).T\n",
    "\n",
    "# Initialize Accuracy column with NaNs or blanks\n",
    "df_metrics['Accuracy'] = ' '  # This avoids repeating the accuracy for each class\n",
    "\n",
    "# Adjust additional metrics dictionary to include the AUC and place Accuracy only in the macro average row\n",
    "additional_rows = [\n",
    "    {'Class': 'macro avg', 'Precision': macro_avg[0], 'Recall': macro_avg[1], 'F1-score': macro_avg[2], 'Support': ' ', 'AUC': auc_score, 'Accuracy': accuracy},\n",
    "    {'Class': 'weighted avg', 'Precision': weighted_avg[0], 'Recall': weighted_avg[1], 'F1-score': weighted_avg[2], 'Support': ' ', 'AUC': auc_score, 'Accuracy': ' '}\n",
    "]\n",
    "\n",
    "# Convert dictionary to DataFrame and concatenate with the existing one\n",
    "df_additional = pd.DataFrame(additional_rows)\n",
    "df_metrics_final = pd.concat([df_metrics, df_additional], ignore_index=True)\n",
    "\n",
    "# Adjust 'Class' column\n",
    "df_metrics_final['Class'] = df_metrics_final.index.map(lambda x: f'Class {x}' if x < len(df_metrics) else df_metrics_final.loc[x, 'Class'])\n",
    "\n",
    "# Rearrange columns to match desired output, including AUC and selectively showing Accuracy\n",
    "df_metrics_final = df_metrics_final[['Class', 'Precision', 'Recall', 'F1-score', 'AUC', 'Accuracy', 'Support']]\n",
    "\n",
    "print(df_metrics_final)\n",
    "df_metrics_final.to_csv(\"xgb1k.csv\", index=False)"
   ]
  },
  {
   "cell_type": "code",
   "execution_count": 37,
   "id": "796361e2",
   "metadata": {},
   "outputs": [
    {
     "name": "stdout",
     "output_type": "stream",
     "text": [
      "Epoch 1/10\n"
     ]
    },
    {
     "name": "stderr",
     "output_type": "stream",
     "text": [
      "C:\\Users\\diego\\anaconda3\\Lib\\site-packages\\keras\\src\\layers\\core\\dense.py:88: UserWarning: Do not pass an `input_shape`/`input_dim` argument to a layer. When using Sequential models, prefer using an `Input(shape)` object as the first layer in the model instead.\n",
      "  super().__init__(activity_regularizer=activity_regularizer, **kwargs)\n"
     ]
    },
    {
     "name": "stdout",
     "output_type": "stream",
     "text": [
      "\u001b[1m25/25\u001b[0m \u001b[32m━━━━━━━━━━━━━━━━━━━━\u001b[0m\u001b[37m\u001b[0m \u001b[1m1s\u001b[0m 1ms/step - accuracy: 0.6242 - loss: 0.7750   \n",
      "Epoch 2/10\n",
      "\u001b[1m25/25\u001b[0m \u001b[32m━━━━━━━━━━━━━━━━━━━━\u001b[0m\u001b[37m\u001b[0m \u001b[1m0s\u001b[0m 1ms/step - accuracy: 0.7708 - loss: 0.5090 \n",
      "Epoch 3/10\n",
      "\u001b[1m25/25\u001b[0m \u001b[32m━━━━━━━━━━━━━━━━━━━━\u001b[0m\u001b[37m\u001b[0m \u001b[1m0s\u001b[0m 1ms/step - accuracy: 0.7760 - loss: 0.5171 \n",
      "Epoch 4/10\n",
      "\u001b[1m25/25\u001b[0m \u001b[32m━━━━━━━━━━━━━━━━━━━━\u001b[0m\u001b[37m\u001b[0m \u001b[1m0s\u001b[0m 1ms/step - accuracy: 0.8127 - loss: 0.4517 \n",
      "Epoch 5/10\n",
      "\u001b[1m25/25\u001b[0m \u001b[32m━━━━━━━━━━━━━━━━━━━━\u001b[0m\u001b[37m\u001b[0m \u001b[1m0s\u001b[0m 1ms/step - accuracy: 0.8563 - loss: 0.3824 \n",
      "Epoch 6/10\n",
      "\u001b[1m25/25\u001b[0m \u001b[32m━━━━━━━━━━━━━━━━━━━━\u001b[0m\u001b[37m\u001b[0m \u001b[1m0s\u001b[0m 1000us/step - accuracy: 0.8345 - loss: 0.4128\n",
      "Epoch 7/10\n",
      "\u001b[1m25/25\u001b[0m \u001b[32m━━━━━━━━━━━━━━━━━━━━\u001b[0m\u001b[37m\u001b[0m \u001b[1m0s\u001b[0m 1ms/step - accuracy: 0.8322 - loss: 0.4115 \n",
      "Epoch 8/10\n",
      "\u001b[1m25/25\u001b[0m \u001b[32m━━━━━━━━━━━━━━━━━━━━\u001b[0m\u001b[37m\u001b[0m \u001b[1m0s\u001b[0m 1ms/step - accuracy: 0.8481 - loss: 0.3973 \n",
      "Epoch 9/10\n",
      "\u001b[1m25/25\u001b[0m \u001b[32m━━━━━━━━━━━━━━━━━━━━\u001b[0m\u001b[37m\u001b[0m \u001b[1m0s\u001b[0m 1ms/step - accuracy: 0.8198 - loss: 0.3953 \n",
      "Epoch 10/10\n",
      "\u001b[1m25/25\u001b[0m \u001b[32m━━━━━━━━━━━━━━━━━━━━\u001b[0m\u001b[37m\u001b[0m \u001b[1m0s\u001b[0m 1ms/step - accuracy: 0.8608 - loss: 0.3468 \n",
      "\u001b[1m7/7\u001b[0m \u001b[32m━━━━━━━━━━━━━━━━━━━━\u001b[0m\u001b[37m\u001b[0m \u001b[1m0s\u001b[0m 6ms/step \n",
      "          Class  Precision    Recall  F1-score       AUC Accuracy Support\n",
      "0       Class 0   0.823529  0.567568  0.672000  0.748069             74.0\n",
      "1       Class 1   0.785235  0.928571  0.850909  0.748069            126.0\n",
      "2     macro avg   0.770436  0.674925  0.682035  0.806735    0.745        \n",
      "3  weighted avg   0.759939  0.745000  0.718824  0.806735                 \n"
     ]
    }
   ],
   "source": [
    "from tensorflow.keras.models import Sequential\n",
    "from tensorflow.keras.layers import Dense\n",
    "from sklearn.metrics import precision_recall_fscore_support, accuracy_score, roc_auc_score, classification_report\n",
    "import pandas as pd\n",
    "import numpy as np\n",
    "\n",
    "# Define a simple neural network model for binary classification\n",
    "model = Sequential([\n",
    "    Dense(128, input_shape=(X_train.shape[1],), activation='relu'),  # Input layer\n",
    "    Dense(64, activation='relu'),  # Hidden layer\n",
    "    Dense(1, activation='sigmoid')  # Output layer for binary classification\n",
    "])\n",
    "\n",
    "# Compile the model\n",
    "model.compile(optimizer='adam', loss='binary_crossentropy', metrics=['accuracy'])\n",
    "\n",
    "# Train the model\n",
    "model.fit(X_train, y_train, epochs=10, batch_size=32, verbose=1)\n",
    "\n",
    "# Make predictions on the testing dataset\n",
    "y_pred = model.predict(X_test).ravel()  # Flatten the array to 1D if it's not already\n",
    "\n",
    "# Convert probabilities to binary class labels\n",
    "pred_nn = np.round(y_pred).astype(int)\n",
    "\n",
    "# Calculate precision, recall, f1-score, and support for each class\n",
    "metrics = precision_recall_fscore_support(y_test, pred_nn)\n",
    "\n",
    "# Calculate macro and weighted averages\n",
    "macro_avg = precision_recall_fscore_support(y_test, pred_nn, average='macro')\n",
    "weighted_avg = precision_recall_fscore_support(y_test, pred_nn, average='weighted')\n",
    "accuracy = accuracy_score(y_test, pred_nn)\n",
    "\n",
    "# Calculate AUC score directly using y_pred\n",
    "auc_score = roc_auc_score(y_test, y_pred)\n",
    "\n",
    "# Create DataFrame\n",
    "df_metrics = pd.DataFrame(metrics_list, \n",
    "                          index=['Precision', 'Recall', 'F1-score', 'Support', 'AUC']).T\n",
    "\n",
    "# Initialize Accuracy column with NaNs or blanks\n",
    "df_metrics['Accuracy'] = ' '  # This avoids repeating the accuracy for each class\n",
    "\n",
    "# Adjust additional metrics dictionary to include the AUC and place Accuracy only in the macro average row\n",
    "additional_rows = [\n",
    "    {'Class': 'macro avg', 'Precision': macro_avg[0], 'Recall': macro_avg[1], 'F1-score': macro_avg[2], 'Support': ' ', 'AUC': auc_score, 'Accuracy': accuracy},\n",
    "    {'Class': 'weighted avg', 'Precision': weighted_avg[0], 'Recall': weighted_avg[1], 'F1-score': weighted_avg[2], 'Support': ' ', 'AUC': auc_score, 'Accuracy': ' '}\n",
    "]\n",
    "\n",
    "# Convert dictionary to DataFrame and concatenate with the existing one\n",
    "df_additional = pd.DataFrame(additional_rows)\n",
    "df_metrics_final = pd.concat([df_metrics, df_additional], ignore_index=True)\n",
    "\n",
    "# Adjust 'Class' column\n",
    "df_metrics_final['Class'] = df_metrics_final.index.map(lambda x: f'Class {x}' if x < len(df_metrics) else df_metrics_final.loc[x, 'Class'])\n",
    "\n",
    "# Rearrange columns to match desired output, including AUC and selectively showing Accuracy\n",
    "df_metrics_final = df_metrics_final[['Class', 'Precision', 'Recall', 'F1-score', 'AUC', 'Accuracy', 'Support']]\n",
    "\n",
    "print(df_metrics_final)\n",
    "df_metrics_final.to_csv(\"nn1k.csv\", index=False)"
   ]
  },
  {
   "cell_type": "code",
   "execution_count": 38,
   "id": "72c6578b",
   "metadata": {},
   "outputs": [
    {
     "name": "stdout",
     "output_type": "stream",
     "text": [
      "Fitting 10 folds for each of 10 candidates, totalling 100 fits\n",
      "[CV 1/10] END clf__C=1, clf__intercept_scaling=100, clf__loss=squared_hinge, clf__max_iter=1000, clf__penalty=l2, clf__tol=0.01;, score=0.850 total time=   0.0s\n",
      "[CV 2/10] END clf__C=1, clf__intercept_scaling=100, clf__loss=squared_hinge, clf__max_iter=1000, clf__penalty=l2, clf__tol=0.01;, score=0.850 total time=   0.0s\n",
      "[CV 3/10] END clf__C=1, clf__intercept_scaling=100, clf__loss=squared_hinge, clf__max_iter=1000, clf__penalty=l2, clf__tol=0.01;, score=0.863 total time=   0.0s\n",
      "[CV 4/10] END clf__C=1, clf__intercept_scaling=100, clf__loss=squared_hinge, clf__max_iter=1000, clf__penalty=l2, clf__tol=0.01;, score=0.800 total time=   0.0s\n",
      "[CV 5/10] END clf__C=1, clf__intercept_scaling=100, clf__loss=squared_hinge, clf__max_iter=1000, clf__penalty=l2, clf__tol=0.01;, score=0.787 total time=   0.0s\n",
      "[CV 6/10] END clf__C=1, clf__intercept_scaling=100, clf__loss=squared_hinge, clf__max_iter=1000, clf__penalty=l2, clf__tol=0.01;, score=0.850 total time=   0.0s\n",
      "[CV 7/10] END clf__C=1, clf__intercept_scaling=100, clf__loss=squared_hinge, clf__max_iter=1000, clf__penalty=l2, clf__tol=0.01;, score=0.775 total time=   0.0s\n",
      "[CV 8/10] END clf__C=1, clf__intercept_scaling=100, clf__loss=squared_hinge, clf__max_iter=1000, clf__penalty=l2, clf__tol=0.01;, score=0.912 total time=   0.0s\n",
      "[CV 9/10] END clf__C=1, clf__intercept_scaling=100, clf__loss=squared_hinge, clf__max_iter=1000, clf__penalty=l2, clf__tol=0.01;, score=0.838 total time=   0.0s\n",
      "[CV 10/10] END clf__C=1, clf__intercept_scaling=100, clf__loss=squared_hinge, clf__max_iter=1000, clf__penalty=l2, clf__tol=0.01;, score=0.812 total time=   0.0s\n",
      "[CV 1/10] END clf__C=0.1, clf__intercept_scaling=100, clf__loss=squared_hinge, clf__max_iter=3000, clf__penalty=l2, clf__tol=0.01;, score=0.850 total time=   0.0s\n",
      "[CV 2/10] END clf__C=0.1, clf__intercept_scaling=100, clf__loss=squared_hinge, clf__max_iter=3000, clf__penalty=l2, clf__tol=0.01;, score=0.850 total time=   0.0s\n",
      "[CV 3/10] END clf__C=0.1, clf__intercept_scaling=100, clf__loss=squared_hinge, clf__max_iter=3000, clf__penalty=l2, clf__tol=0.01;, score=0.875 total time=   0.0s\n",
      "[CV 4/10] END clf__C=0.1, clf__intercept_scaling=100, clf__loss=squared_hinge, clf__max_iter=3000, clf__penalty=l2, clf__tol=0.01;, score=0.812 total time=   0.0s\n",
      "[CV 5/10] END clf__C=0.1, clf__intercept_scaling=100, clf__loss=squared_hinge, clf__max_iter=3000, clf__penalty=l2, clf__tol=0.01;, score=0.787 total time=   0.0s\n",
      "[CV 6/10] END clf__C=0.1, clf__intercept_scaling=100, clf__loss=squared_hinge, clf__max_iter=3000, clf__penalty=l2, clf__tol=0.01;, score=0.850 total time=   0.0s\n",
      "[CV 7/10] END clf__C=0.1, clf__intercept_scaling=100, clf__loss=squared_hinge, clf__max_iter=3000, clf__penalty=l2, clf__tol=0.01;, score=0.775 total time=   0.0s\n",
      "[CV 8/10] END clf__C=0.1, clf__intercept_scaling=100, clf__loss=squared_hinge, clf__max_iter=3000, clf__penalty=l2, clf__tol=0.01;, score=0.912 total time=   0.0s\n",
      "[CV 9/10] END clf__C=0.1, clf__intercept_scaling=100, clf__loss=squared_hinge, clf__max_iter=3000, clf__penalty=l2, clf__tol=0.01;, score=0.838 total time=   0.0s\n",
      "[CV 10/10] END clf__C=0.1, clf__intercept_scaling=100, clf__loss=squared_hinge, clf__max_iter=3000, clf__penalty=l2, clf__tol=0.01;, score=0.812 total time=   0.0s\n",
      "[CV 1/10] END clf__C=0.01, clf__intercept_scaling=10, clf__loss=squared_hinge, clf__max_iter=3000, clf__penalty=l2, clf__tol=0.01;, score=0.863 total time=   0.0s\n",
      "[CV 2/10] END clf__C=0.01, clf__intercept_scaling=10, clf__loss=squared_hinge, clf__max_iter=3000, clf__penalty=l2, clf__tol=0.01;, score=0.850 total time=   0.0s\n",
      "[CV 3/10] END clf__C=0.01, clf__intercept_scaling=10, clf__loss=squared_hinge, clf__max_iter=3000, clf__penalty=l2, clf__tol=0.01;, score=0.863 total time=   0.0s\n",
      "[CV 4/10] END clf__C=0.01, clf__intercept_scaling=10, clf__loss=squared_hinge, clf__max_iter=3000, clf__penalty=l2, clf__tol=0.01;, score=0.775 total time=   0.0s\n",
      "[CV 5/10] END clf__C=0.01, clf__intercept_scaling=10, clf__loss=squared_hinge, clf__max_iter=3000, clf__penalty=l2, clf__tol=0.01;, score=0.787 total time=   0.0s\n",
      "[CV 6/10] END clf__C=0.01, clf__intercept_scaling=10, clf__loss=squared_hinge, clf__max_iter=3000, clf__penalty=l2, clf__tol=0.01;, score=0.863 total time=   0.0s\n",
      "[CV 7/10] END clf__C=0.01, clf__intercept_scaling=10, clf__loss=squared_hinge, clf__max_iter=3000, clf__penalty=l2, clf__tol=0.01;, score=0.787 total time=   0.0s\n",
      "[CV 8/10] END clf__C=0.01, clf__intercept_scaling=10, clf__loss=squared_hinge, clf__max_iter=3000, clf__penalty=l2, clf__tol=0.01;, score=0.912 total time=   0.0s\n",
      "[CV 9/10] END clf__C=0.01, clf__intercept_scaling=10, clf__loss=squared_hinge, clf__max_iter=3000, clf__penalty=l2, clf__tol=0.01;, score=0.875 total time=   0.0s\n",
      "[CV 10/10] END clf__C=0.01, clf__intercept_scaling=10, clf__loss=squared_hinge, clf__max_iter=3000, clf__penalty=l2, clf__tol=0.01;, score=0.812 total time=   0.0s\n"
     ]
    },
    {
     "name": "stderr",
     "output_type": "stream",
     "text": [
      "C:\\Users\\diego\\anaconda3\\Lib\\site-packages\\sklearn\\svm\\_base.py:1242: ConvergenceWarning: Liblinear failed to converge, increase the number of iterations.\n",
      "  warnings.warn(\n",
      "C:\\Users\\diego\\anaconda3\\Lib\\site-packages\\sklearn\\svm\\_base.py:1242: ConvergenceWarning: Liblinear failed to converge, increase the number of iterations.\n",
      "  warnings.warn(\n"
     ]
    },
    {
     "name": "stdout",
     "output_type": "stream",
     "text": [
      "[CV 1/10] END clf__C=1, clf__intercept_scaling=1, clf__loss=squared_hinge, clf__max_iter=1000, clf__penalty=l1, clf__tol=0.001;, score=0.850 total time=   0.0s\n",
      "[CV 2/10] END clf__C=1, clf__intercept_scaling=1, clf__loss=squared_hinge, clf__max_iter=1000, clf__penalty=l1, clf__tol=0.001;, score=0.825 total time=   0.0s\n"
     ]
    },
    {
     "name": "stderr",
     "output_type": "stream",
     "text": [
      "C:\\Users\\diego\\anaconda3\\Lib\\site-packages\\sklearn\\svm\\_base.py:1242: ConvergenceWarning: Liblinear failed to converge, increase the number of iterations.\n",
      "  warnings.warn(\n",
      "C:\\Users\\diego\\anaconda3\\Lib\\site-packages\\sklearn\\svm\\_base.py:1242: ConvergenceWarning: Liblinear failed to converge, increase the number of iterations.\n",
      "  warnings.warn(\n"
     ]
    },
    {
     "name": "stdout",
     "output_type": "stream",
     "text": [
      "[CV 3/10] END clf__C=1, clf__intercept_scaling=1, clf__loss=squared_hinge, clf__max_iter=1000, clf__penalty=l1, clf__tol=0.001;, score=0.863 total time=   0.0s\n",
      "[CV 4/10] END clf__C=1, clf__intercept_scaling=1, clf__loss=squared_hinge, clf__max_iter=1000, clf__penalty=l1, clf__tol=0.001;, score=0.762 total time=   0.0s\n"
     ]
    },
    {
     "name": "stderr",
     "output_type": "stream",
     "text": [
      "C:\\Users\\diego\\anaconda3\\Lib\\site-packages\\sklearn\\svm\\_base.py:1242: ConvergenceWarning: Liblinear failed to converge, increase the number of iterations.\n",
      "  warnings.warn(\n",
      "C:\\Users\\diego\\anaconda3\\Lib\\site-packages\\sklearn\\svm\\_base.py:1242: ConvergenceWarning: Liblinear failed to converge, increase the number of iterations.\n",
      "  warnings.warn(\n"
     ]
    },
    {
     "name": "stdout",
     "output_type": "stream",
     "text": [
      "[CV 5/10] END clf__C=1, clf__intercept_scaling=1, clf__loss=squared_hinge, clf__max_iter=1000, clf__penalty=l1, clf__tol=0.001;, score=0.800 total time=   0.0s\n",
      "[CV 6/10] END clf__C=1, clf__intercept_scaling=1, clf__loss=squared_hinge, clf__max_iter=1000, clf__penalty=l1, clf__tol=0.001;, score=0.875 total time=   0.0s\n"
     ]
    },
    {
     "name": "stderr",
     "output_type": "stream",
     "text": [
      "C:\\Users\\diego\\anaconda3\\Lib\\site-packages\\sklearn\\svm\\_base.py:1242: ConvergenceWarning: Liblinear failed to converge, increase the number of iterations.\n",
      "  warnings.warn(\n",
      "C:\\Users\\diego\\anaconda3\\Lib\\site-packages\\sklearn\\svm\\_base.py:1242: ConvergenceWarning: Liblinear failed to converge, increase the number of iterations.\n",
      "  warnings.warn(\n"
     ]
    },
    {
     "name": "stdout",
     "output_type": "stream",
     "text": [
      "[CV 7/10] END clf__C=1, clf__intercept_scaling=1, clf__loss=squared_hinge, clf__max_iter=1000, clf__penalty=l1, clf__tol=0.001;, score=0.775 total time=   0.0s\n",
      "[CV 8/10] END clf__C=1, clf__intercept_scaling=1, clf__loss=squared_hinge, clf__max_iter=1000, clf__penalty=l1, clf__tol=0.001;, score=0.887 total time=   0.0s\n"
     ]
    },
    {
     "name": "stderr",
     "output_type": "stream",
     "text": [
      "C:\\Users\\diego\\anaconda3\\Lib\\site-packages\\sklearn\\svm\\_base.py:1242: ConvergenceWarning: Liblinear failed to converge, increase the number of iterations.\n",
      "  warnings.warn(\n",
      "C:\\Users\\diego\\anaconda3\\Lib\\site-packages\\sklearn\\svm\\_base.py:1242: ConvergenceWarning: Liblinear failed to converge, increase the number of iterations.\n",
      "  warnings.warn(\n"
     ]
    },
    {
     "name": "stdout",
     "output_type": "stream",
     "text": [
      "[CV 9/10] END clf__C=1, clf__intercept_scaling=1, clf__loss=squared_hinge, clf__max_iter=1000, clf__penalty=l1, clf__tol=0.001;, score=0.838 total time=   0.0s\n",
      "[CV 10/10] END clf__C=1, clf__intercept_scaling=1, clf__loss=squared_hinge, clf__max_iter=1000, clf__penalty=l1, clf__tol=0.001;, score=0.787 total time=   0.0s\n",
      "[CV 1/10] END clf__C=0.1, clf__intercept_scaling=100, clf__loss=squared_hinge, clf__max_iter=3000, clf__penalty=l2, clf__tol=0.0001;, score=0.850 total time=   0.0s\n",
      "[CV 2/10] END clf__C=0.1, clf__intercept_scaling=100, clf__loss=squared_hinge, clf__max_iter=3000, clf__penalty=l2, clf__tol=0.0001;, score=0.825 total time=   0.0s\n",
      "[CV 3/10] END clf__C=0.1, clf__intercept_scaling=100, clf__loss=squared_hinge, clf__max_iter=3000, clf__penalty=l2, clf__tol=0.0001;, score=0.863 total time=   0.0s\n",
      "[CV 4/10] END clf__C=0.1, clf__intercept_scaling=100, clf__loss=squared_hinge, clf__max_iter=3000, clf__penalty=l2, clf__tol=0.0001;, score=0.800 total time=   0.0s\n",
      "[CV 5/10] END clf__C=0.1, clf__intercept_scaling=100, clf__loss=squared_hinge, clf__max_iter=3000, clf__penalty=l2, clf__tol=0.0001;, score=0.812 total time=   0.0s\n",
      "[CV 6/10] END clf__C=0.1, clf__intercept_scaling=100, clf__loss=squared_hinge, clf__max_iter=3000, clf__penalty=l2, clf__tol=0.0001;, score=0.875 total time=   0.0s\n",
      "[CV 7/10] END clf__C=0.1, clf__intercept_scaling=100, clf__loss=squared_hinge, clf__max_iter=3000, clf__penalty=l2, clf__tol=0.0001;, score=0.800 total time=   0.0s\n",
      "[CV 8/10] END clf__C=0.1, clf__intercept_scaling=100, clf__loss=squared_hinge, clf__max_iter=3000, clf__penalty=l2, clf__tol=0.0001;, score=0.900 total time=   0.0s\n",
      "[CV 9/10] END clf__C=0.1, clf__intercept_scaling=100, clf__loss=squared_hinge, clf__max_iter=3000, clf__penalty=l2, clf__tol=0.0001;, score=0.838 total time=   0.0s\n",
      "[CV 10/10] END clf__C=0.1, clf__intercept_scaling=100, clf__loss=squared_hinge, clf__max_iter=3000, clf__penalty=l2, clf__tol=0.0001;, score=0.787 total time=   0.0s\n",
      "[CV 1/10] END clf__C=0.1, clf__intercept_scaling=1, clf__loss=squared_hinge, clf__max_iter=3000, clf__penalty=l1, clf__tol=0.01;, score=0.850 total time=   0.0s\n",
      "[CV 2/10] END clf__C=0.1, clf__intercept_scaling=1, clf__loss=squared_hinge, clf__max_iter=3000, clf__penalty=l1, clf__tol=0.01;, score=0.838 total time=   0.0s\n",
      "[CV 3/10] END clf__C=0.1, clf__intercept_scaling=1, clf__loss=squared_hinge, clf__max_iter=3000, clf__penalty=l1, clf__tol=0.01;, score=0.863 total time=   0.0s\n",
      "[CV 4/10] END clf__C=0.1, clf__intercept_scaling=1, clf__loss=squared_hinge, clf__max_iter=3000, clf__penalty=l1, clf__tol=0.01;, score=0.762 total time=   0.0s\n",
      "[CV 5/10] END clf__C=0.1, clf__intercept_scaling=1, clf__loss=squared_hinge, clf__max_iter=3000, clf__penalty=l1, clf__tol=0.01;, score=0.800 total time=   0.0s\n",
      "[CV 6/10] END clf__C=0.1, clf__intercept_scaling=1, clf__loss=squared_hinge, clf__max_iter=3000, clf__penalty=l1, clf__tol=0.01;, score=0.887 total time=   0.0s\n",
      "[CV 7/10] END clf__C=0.1, clf__intercept_scaling=1, clf__loss=squared_hinge, clf__max_iter=3000, clf__penalty=l1, clf__tol=0.01;, score=0.812 total time=   0.0s\n",
      "[CV 8/10] END clf__C=0.1, clf__intercept_scaling=1, clf__loss=squared_hinge, clf__max_iter=3000, clf__penalty=l1, clf__tol=0.01;, score=0.912 total time=   0.0s\n",
      "[CV 9/10] END clf__C=0.1, clf__intercept_scaling=1, clf__loss=squared_hinge, clf__max_iter=3000, clf__penalty=l1, clf__tol=0.01;, score=0.863 total time=   0.0s\n",
      "[CV 10/10] END clf__C=0.1, clf__intercept_scaling=1, clf__loss=squared_hinge, clf__max_iter=3000, clf__penalty=l1, clf__tol=0.01;, score=0.825 total time=   0.0s\n",
      "[CV 1/10] END clf__C=10, clf__intercept_scaling=10, clf__loss=squared_hinge, clf__max_iter=1000, clf__penalty=l1, clf__tol=0.001;, score=0.850 total time=   0.0s\n"
     ]
    },
    {
     "name": "stderr",
     "output_type": "stream",
     "text": [
      "C:\\Users\\diego\\anaconda3\\Lib\\site-packages\\sklearn\\svm\\_base.py:1242: ConvergenceWarning: Liblinear failed to converge, increase the number of iterations.\n",
      "  warnings.warn(\n",
      "C:\\Users\\diego\\anaconda3\\Lib\\site-packages\\sklearn\\svm\\_base.py:1242: ConvergenceWarning: Liblinear failed to converge, increase the number of iterations.\n",
      "  warnings.warn(\n"
     ]
    },
    {
     "name": "stdout",
     "output_type": "stream",
     "text": [
      "[CV 2/10] END clf__C=10, clf__intercept_scaling=10, clf__loss=squared_hinge, clf__max_iter=1000, clf__penalty=l1, clf__tol=0.001;, score=0.812 total time=   0.0s\n",
      "[CV 3/10] END clf__C=10, clf__intercept_scaling=10, clf__loss=squared_hinge, clf__max_iter=1000, clf__penalty=l1, clf__tol=0.001;, score=0.850 total time=   0.0s\n"
     ]
    },
    {
     "name": "stderr",
     "output_type": "stream",
     "text": [
      "C:\\Users\\diego\\anaconda3\\Lib\\site-packages\\sklearn\\svm\\_base.py:1242: ConvergenceWarning: Liblinear failed to converge, increase the number of iterations.\n",
      "  warnings.warn(\n",
      "C:\\Users\\diego\\anaconda3\\Lib\\site-packages\\sklearn\\svm\\_base.py:1242: ConvergenceWarning: Liblinear failed to converge, increase the number of iterations.\n",
      "  warnings.warn(\n"
     ]
    },
    {
     "name": "stdout",
     "output_type": "stream",
     "text": [
      "[CV 4/10] END clf__C=10, clf__intercept_scaling=10, clf__loss=squared_hinge, clf__max_iter=1000, clf__penalty=l1, clf__tol=0.001;, score=0.775 total time=   0.0s\n",
      "[CV 5/10] END clf__C=10, clf__intercept_scaling=10, clf__loss=squared_hinge, clf__max_iter=1000, clf__penalty=l1, clf__tol=0.001;, score=0.825 total time=   0.0s\n"
     ]
    },
    {
     "name": "stderr",
     "output_type": "stream",
     "text": [
      "C:\\Users\\diego\\anaconda3\\Lib\\site-packages\\sklearn\\svm\\_base.py:1242: ConvergenceWarning: Liblinear failed to converge, increase the number of iterations.\n",
      "  warnings.warn(\n",
      "C:\\Users\\diego\\anaconda3\\Lib\\site-packages\\sklearn\\svm\\_base.py:1242: ConvergenceWarning: Liblinear failed to converge, increase the number of iterations.\n",
      "  warnings.warn(\n"
     ]
    },
    {
     "name": "stdout",
     "output_type": "stream",
     "text": [
      "[CV 6/10] END clf__C=10, clf__intercept_scaling=10, clf__loss=squared_hinge, clf__max_iter=1000, clf__penalty=l1, clf__tol=0.001;, score=0.875 total time=   0.0s\n",
      "[CV 7/10] END clf__C=10, clf__intercept_scaling=10, clf__loss=squared_hinge, clf__max_iter=1000, clf__penalty=l1, clf__tol=0.001;, score=0.800 total time=   0.0s\n"
     ]
    },
    {
     "name": "stderr",
     "output_type": "stream",
     "text": [
      "C:\\Users\\diego\\anaconda3\\Lib\\site-packages\\sklearn\\svm\\_base.py:1242: ConvergenceWarning: Liblinear failed to converge, increase the number of iterations.\n",
      "  warnings.warn(\n",
      "C:\\Users\\diego\\anaconda3\\Lib\\site-packages\\sklearn\\svm\\_base.py:1242: ConvergenceWarning: Liblinear failed to converge, increase the number of iterations.\n",
      "  warnings.warn(\n"
     ]
    },
    {
     "name": "stdout",
     "output_type": "stream",
     "text": [
      "[CV 8/10] END clf__C=10, clf__intercept_scaling=10, clf__loss=squared_hinge, clf__max_iter=1000, clf__penalty=l1, clf__tol=0.001;, score=0.900 total time=   0.0s\n",
      "[CV 9/10] END clf__C=10, clf__intercept_scaling=10, clf__loss=squared_hinge, clf__max_iter=1000, clf__penalty=l1, clf__tol=0.001;, score=0.825 total time=   0.0s\n"
     ]
    },
    {
     "name": "stderr",
     "output_type": "stream",
     "text": [
      "C:\\Users\\diego\\anaconda3\\Lib\\site-packages\\sklearn\\svm\\_base.py:1242: ConvergenceWarning: Liblinear failed to converge, increase the number of iterations.\n",
      "  warnings.warn(\n",
      "C:\\Users\\diego\\anaconda3\\Lib\\site-packages\\sklearn\\svm\\_base.py:1242: ConvergenceWarning: Liblinear failed to converge, increase the number of iterations.\n",
      "  warnings.warn(\n"
     ]
    },
    {
     "name": "stdout",
     "output_type": "stream",
     "text": [
      "[CV 10/10] END clf__C=10, clf__intercept_scaling=10, clf__loss=squared_hinge, clf__max_iter=1000, clf__penalty=l1, clf__tol=0.001;, score=0.800 total time=   0.0s\n"
     ]
    },
    {
     "name": "stderr",
     "output_type": "stream",
     "text": [
      "C:\\Users\\diego\\anaconda3\\Lib\\site-packages\\sklearn\\svm\\_base.py:1242: ConvergenceWarning: Liblinear failed to converge, increase the number of iterations.\n",
      "  warnings.warn(\n"
     ]
    },
    {
     "name": "stdout",
     "output_type": "stream",
     "text": [
      "[CV 1/10] END clf__C=10, clf__intercept_scaling=10, clf__loss=squared_hinge, clf__max_iter=2000, clf__penalty=l1, clf__tol=0.001;, score=0.838 total time=   0.1s\n"
     ]
    },
    {
     "name": "stderr",
     "output_type": "stream",
     "text": [
      "C:\\Users\\diego\\anaconda3\\Lib\\site-packages\\sklearn\\svm\\_base.py:1242: ConvergenceWarning: Liblinear failed to converge, increase the number of iterations.\n",
      "  warnings.warn(\n"
     ]
    },
    {
     "name": "stdout",
     "output_type": "stream",
     "text": [
      "[CV 2/10] END clf__C=10, clf__intercept_scaling=10, clf__loss=squared_hinge, clf__max_iter=2000, clf__penalty=l1, clf__tol=0.001;, score=0.812 total time=   0.1s\n"
     ]
    },
    {
     "name": "stderr",
     "output_type": "stream",
     "text": [
      "C:\\Users\\diego\\anaconda3\\Lib\\site-packages\\sklearn\\svm\\_base.py:1242: ConvergenceWarning: Liblinear failed to converge, increase the number of iterations.\n",
      "  warnings.warn(\n"
     ]
    },
    {
     "name": "stdout",
     "output_type": "stream",
     "text": [
      "[CV 3/10] END clf__C=10, clf__intercept_scaling=10, clf__loss=squared_hinge, clf__max_iter=2000, clf__penalty=l1, clf__tol=0.001;, score=0.850 total time=   0.1s\n"
     ]
    },
    {
     "name": "stderr",
     "output_type": "stream",
     "text": [
      "C:\\Users\\diego\\anaconda3\\Lib\\site-packages\\sklearn\\svm\\_base.py:1242: ConvergenceWarning: Liblinear failed to converge, increase the number of iterations.\n",
      "  warnings.warn(\n"
     ]
    },
    {
     "name": "stdout",
     "output_type": "stream",
     "text": [
      "[CV 4/10] END clf__C=10, clf__intercept_scaling=10, clf__loss=squared_hinge, clf__max_iter=2000, clf__penalty=l1, clf__tol=0.001;, score=0.775 total time=   0.1s\n"
     ]
    },
    {
     "name": "stderr",
     "output_type": "stream",
     "text": [
      "C:\\Users\\diego\\anaconda3\\Lib\\site-packages\\sklearn\\svm\\_base.py:1242: ConvergenceWarning: Liblinear failed to converge, increase the number of iterations.\n",
      "  warnings.warn(\n"
     ]
    },
    {
     "name": "stdout",
     "output_type": "stream",
     "text": [
      "[CV 5/10] END clf__C=10, clf__intercept_scaling=10, clf__loss=squared_hinge, clf__max_iter=2000, clf__penalty=l1, clf__tol=0.001;, score=0.825 total time=   0.1s\n"
     ]
    },
    {
     "name": "stderr",
     "output_type": "stream",
     "text": [
      "C:\\Users\\diego\\anaconda3\\Lib\\site-packages\\sklearn\\svm\\_base.py:1242: ConvergenceWarning: Liblinear failed to converge, increase the number of iterations.\n",
      "  warnings.warn(\n",
      "C:\\Users\\diego\\anaconda3\\Lib\\site-packages\\sklearn\\svm\\_base.py:1242: ConvergenceWarning: Liblinear failed to converge, increase the number of iterations.\n",
      "  warnings.warn(\n"
     ]
    },
    {
     "name": "stdout",
     "output_type": "stream",
     "text": [
      "[CV 6/10] END clf__C=10, clf__intercept_scaling=10, clf__loss=squared_hinge, clf__max_iter=2000, clf__penalty=l1, clf__tol=0.001;, score=0.863 total time=   0.2s\n",
      "[CV 7/10] END clf__C=10, clf__intercept_scaling=10, clf__loss=squared_hinge, clf__max_iter=2000, clf__penalty=l1, clf__tol=0.001;, score=0.800 total time=   0.1s\n"
     ]
    },
    {
     "name": "stderr",
     "output_type": "stream",
     "text": [
      "C:\\Users\\diego\\anaconda3\\Lib\\site-packages\\sklearn\\svm\\_base.py:1242: ConvergenceWarning: Liblinear failed to converge, increase the number of iterations.\n",
      "  warnings.warn(\n"
     ]
    },
    {
     "name": "stdout",
     "output_type": "stream",
     "text": [
      "[CV 8/10] END clf__C=10, clf__intercept_scaling=10, clf__loss=squared_hinge, clf__max_iter=2000, clf__penalty=l1, clf__tol=0.001;, score=0.887 total time=   0.1s\n"
     ]
    },
    {
     "name": "stderr",
     "output_type": "stream",
     "text": [
      "C:\\Users\\diego\\anaconda3\\Lib\\site-packages\\sklearn\\svm\\_base.py:1242: ConvergenceWarning: Liblinear failed to converge, increase the number of iterations.\n",
      "  warnings.warn(\n"
     ]
    },
    {
     "name": "stdout",
     "output_type": "stream",
     "text": [
      "[CV 9/10] END clf__C=10, clf__intercept_scaling=10, clf__loss=squared_hinge, clf__max_iter=2000, clf__penalty=l1, clf__tol=0.001;, score=0.825 total time=   0.1s\n"
     ]
    },
    {
     "name": "stderr",
     "output_type": "stream",
     "text": [
      "C:\\Users\\diego\\anaconda3\\Lib\\site-packages\\sklearn\\svm\\_base.py:1242: ConvergenceWarning: Liblinear failed to converge, increase the number of iterations.\n",
      "  warnings.warn(\n"
     ]
    },
    {
     "name": "stdout",
     "output_type": "stream",
     "text": [
      "[CV 10/10] END clf__C=10, clf__intercept_scaling=10, clf__loss=squared_hinge, clf__max_iter=2000, clf__penalty=l1, clf__tol=0.001;, score=0.800 total time=   0.2s\n"
     ]
    },
    {
     "name": "stderr",
     "output_type": "stream",
     "text": [
      "C:\\Users\\diego\\anaconda3\\Lib\\site-packages\\sklearn\\svm\\_base.py:1242: ConvergenceWarning: Liblinear failed to converge, increase the number of iterations.\n",
      "  warnings.warn(\n"
     ]
    },
    {
     "name": "stdout",
     "output_type": "stream",
     "text": [
      "[CV 1/10] END clf__C=1, clf__intercept_scaling=1, clf__loss=squared_hinge, clf__max_iter=3000, clf__penalty=l1, clf__tol=0.0001;, score=0.850 total time=   0.2s\n"
     ]
    },
    {
     "name": "stderr",
     "output_type": "stream",
     "text": [
      "C:\\Users\\diego\\anaconda3\\Lib\\site-packages\\sklearn\\svm\\_base.py:1242: ConvergenceWarning: Liblinear failed to converge, increase the number of iterations.\n",
      "  warnings.warn(\n"
     ]
    },
    {
     "name": "stdout",
     "output_type": "stream",
     "text": [
      "[CV 2/10] END clf__C=1, clf__intercept_scaling=1, clf__loss=squared_hinge, clf__max_iter=3000, clf__penalty=l1, clf__tol=0.0001;, score=0.812 total time=   0.3s\n"
     ]
    },
    {
     "name": "stderr",
     "output_type": "stream",
     "text": [
      "C:\\Users\\diego\\anaconda3\\Lib\\site-packages\\sklearn\\svm\\_base.py:1242: ConvergenceWarning: Liblinear failed to converge, increase the number of iterations.\n",
      "  warnings.warn(\n"
     ]
    },
    {
     "name": "stdout",
     "output_type": "stream",
     "text": [
      "[CV 3/10] END clf__C=1, clf__intercept_scaling=1, clf__loss=squared_hinge, clf__max_iter=3000, clf__penalty=l1, clf__tol=0.0001;, score=0.850 total time=   0.2s\n"
     ]
    },
    {
     "name": "stderr",
     "output_type": "stream",
     "text": [
      "C:\\Users\\diego\\anaconda3\\Lib\\site-packages\\sklearn\\svm\\_base.py:1242: ConvergenceWarning: Liblinear failed to converge, increase the number of iterations.\n",
      "  warnings.warn(\n"
     ]
    },
    {
     "name": "stdout",
     "output_type": "stream",
     "text": [
      "[CV 4/10] END clf__C=1, clf__intercept_scaling=1, clf__loss=squared_hinge, clf__max_iter=3000, clf__penalty=l1, clf__tol=0.0001;, score=0.762 total time=   0.2s\n"
     ]
    },
    {
     "name": "stderr",
     "output_type": "stream",
     "text": [
      "C:\\Users\\diego\\anaconda3\\Lib\\site-packages\\sklearn\\svm\\_base.py:1242: ConvergenceWarning: Liblinear failed to converge, increase the number of iterations.\n",
      "  warnings.warn(\n"
     ]
    },
    {
     "name": "stdout",
     "output_type": "stream",
     "text": [
      "[CV 5/10] END clf__C=1, clf__intercept_scaling=1, clf__loss=squared_hinge, clf__max_iter=3000, clf__penalty=l1, clf__tol=0.0001;, score=0.825 total time=   0.2s\n"
     ]
    },
    {
     "name": "stderr",
     "output_type": "stream",
     "text": [
      "C:\\Users\\diego\\anaconda3\\Lib\\site-packages\\sklearn\\svm\\_base.py:1242: ConvergenceWarning: Liblinear failed to converge, increase the number of iterations.\n",
      "  warnings.warn(\n"
     ]
    },
    {
     "name": "stdout",
     "output_type": "stream",
     "text": [
      "[CV 6/10] END clf__C=1, clf__intercept_scaling=1, clf__loss=squared_hinge, clf__max_iter=3000, clf__penalty=l1, clf__tol=0.0001;, score=0.875 total time=   0.2s\n"
     ]
    },
    {
     "name": "stderr",
     "output_type": "stream",
     "text": [
      "C:\\Users\\diego\\anaconda3\\Lib\\site-packages\\sklearn\\svm\\_base.py:1242: ConvergenceWarning: Liblinear failed to converge, increase the number of iterations.\n",
      "  warnings.warn(\n"
     ]
    },
    {
     "name": "stdout",
     "output_type": "stream",
     "text": [
      "[CV 7/10] END clf__C=1, clf__intercept_scaling=1, clf__loss=squared_hinge, clf__max_iter=3000, clf__penalty=l1, clf__tol=0.0001;, score=0.800 total time=   0.2s\n"
     ]
    },
    {
     "name": "stderr",
     "output_type": "stream",
     "text": [
      "C:\\Users\\diego\\anaconda3\\Lib\\site-packages\\sklearn\\svm\\_base.py:1242: ConvergenceWarning: Liblinear failed to converge, increase the number of iterations.\n",
      "  warnings.warn(\n"
     ]
    },
    {
     "name": "stdout",
     "output_type": "stream",
     "text": [
      "[CV 8/10] END clf__C=1, clf__intercept_scaling=1, clf__loss=squared_hinge, clf__max_iter=3000, clf__penalty=l1, clf__tol=0.0001;, score=0.875 total time=   0.2s\n"
     ]
    },
    {
     "name": "stderr",
     "output_type": "stream",
     "text": [
      "C:\\Users\\diego\\anaconda3\\Lib\\site-packages\\sklearn\\svm\\_base.py:1242: ConvergenceWarning: Liblinear failed to converge, increase the number of iterations.\n",
      "  warnings.warn(\n"
     ]
    },
    {
     "name": "stdout",
     "output_type": "stream",
     "text": [
      "[CV 9/10] END clf__C=1, clf__intercept_scaling=1, clf__loss=squared_hinge, clf__max_iter=3000, clf__penalty=l1, clf__tol=0.0001;, score=0.825 total time=   0.2s\n"
     ]
    },
    {
     "name": "stderr",
     "output_type": "stream",
     "text": [
      "C:\\Users\\diego\\anaconda3\\Lib\\site-packages\\sklearn\\svm\\_base.py:1242: ConvergenceWarning: Liblinear failed to converge, increase the number of iterations.\n",
      "  warnings.warn(\n"
     ]
    },
    {
     "name": "stdout",
     "output_type": "stream",
     "text": [
      "[CV 10/10] END clf__C=1, clf__intercept_scaling=1, clf__loss=squared_hinge, clf__max_iter=3000, clf__penalty=l1, clf__tol=0.0001;, score=0.787 total time=   0.3s\n",
      "[CV 1/10] END clf__C=10, clf__intercept_scaling=100, clf__loss=squared_hinge, clf__max_iter=3000, clf__penalty=l1, clf__tol=0.01;, score=0.850 total time=   0.0s\n",
      "[CV 2/10] END clf__C=10, clf__intercept_scaling=100, clf__loss=squared_hinge, clf__max_iter=3000, clf__penalty=l1, clf__tol=0.01;, score=0.812 total time=   0.0s\n",
      "[CV 3/10] END clf__C=10, clf__intercept_scaling=100, clf__loss=squared_hinge, clf__max_iter=3000, clf__penalty=l1, clf__tol=0.01;, score=0.850 total time=   0.0s\n",
      "[CV 4/10] END clf__C=10, clf__intercept_scaling=100, clf__loss=squared_hinge, clf__max_iter=3000, clf__penalty=l1, clf__tol=0.01;, score=0.762 total time=   0.0s\n",
      "[CV 5/10] END clf__C=10, clf__intercept_scaling=100, clf__loss=squared_hinge, clf__max_iter=3000, clf__penalty=l1, clf__tol=0.01;, score=0.825 total time=   0.0s\n",
      "[CV 6/10] END clf__C=10, clf__intercept_scaling=100, clf__loss=squared_hinge, clf__max_iter=3000, clf__penalty=l1, clf__tol=0.01;, score=0.875 total time=   0.0s\n",
      "[CV 7/10] END clf__C=10, clf__intercept_scaling=100, clf__loss=squared_hinge, clf__max_iter=3000, clf__penalty=l1, clf__tol=0.01;, score=0.787 total time=   0.0s\n",
      "[CV 8/10] END clf__C=10, clf__intercept_scaling=100, clf__loss=squared_hinge, clf__max_iter=3000, clf__penalty=l1, clf__tol=0.01;, score=0.900 total time=   0.0s\n",
      "[CV 9/10] END clf__C=10, clf__intercept_scaling=100, clf__loss=squared_hinge, clf__max_iter=3000, clf__penalty=l1, clf__tol=0.01;, score=0.825 total time=   0.0s\n",
      "[CV 10/10] END clf__C=10, clf__intercept_scaling=100, clf__loss=squared_hinge, clf__max_iter=3000, clf__penalty=l1, clf__tol=0.01;, score=0.787 total time=   0.0s\n",
      "          Class  Precision    Recall  F1-score       AUC Accuracy Support\n",
      "0       Class 0   0.823529  0.567568  0.672000  0.748069             74.0\n",
      "1       Class 1   0.785235  0.928571  0.850909  0.748069            126.0\n",
      "2     macro avg   0.764903  0.715894  0.726545  0.748069    0.765        \n",
      "3  weighted avg   0.764955  0.765000  0.753207  0.748069                 \n"
     ]
    }
   ],
   "source": [
    "from sklearn.model_selection import GridSearchCV\n",
    "from sklearn.model_selection import RandomizedSearchCV\n",
    "from sklearn.svm import SVC\n",
    "from sklearn.pipeline import make_pipeline\n",
    "from sklearn.pipeline import Pipeline\n",
    "from sklearn.preprocessing import StandardScaler\n",
    "from sklearn.metrics import classification_report\n",
    "from sklearn.svm import LinearSVC\n",
    "pipeline = Pipeline([\n",
    "    ('clf', LinearSVC(dual=False))  # 'clf' is the name we give to the LinearSVC step\n",
    "])\n",
    "\n",
    "\n",
    "\n",
    "# Define a very simple parameter grid, could be expanded based on need\n",
    "param_grid = {\n",
    "    'clf__penalty': ['l1', 'l2'],\n",
    "    'clf__loss': ['squared_hinge'],\n",
    "    'clf__tol': [1e-4, 1e-3, 1e-2],\n",
    "    'clf__C': [0.01, 0.1, 1, 10, 100],\n",
    "    'clf__max_iter': [1000, 2000, 3000],\n",
    "    'clf__intercept_scaling': [1, 10, 100]\n",
    "}\n",
    "\n",
    "\n",
    "# Initialize GridSearchCV with the SVC estimator and the simple param grid\n",
    "grid = RandomizedSearchCV(pipeline, param_grid, verbose=3, cv=10)\n",
    "\n",
    "# Train the model on the training dataset\n",
    "grid.fit(X_train, y_train)\n",
    "\n",
    "# Make predictions on the testing dataset using the best model found\n",
    "y_pred = grid.predict(X_test)\n",
    "\n",
    "# For AUC-ROC, you need the probabilities of the positive class\n",
    "y_scores = grid.decision_function(X_test)\n",
    "# Calculate precision, recall, f1-score, and support for each class\n",
    "metrics = precision_recall_fscore_support(y_test, y_pred)\n",
    "\n",
    "# Calculate macro and weighted averages\n",
    "macro_avg = precision_recall_fscore_support(y_test, y_pred, average='macro')\n",
    "weighted_avg = precision_recall_fscore_support(y_test, y_pred, average='weighted')\n",
    "accuracy = accuracy_score(y_test, y_pred)\n",
    "\n",
    "# Calculate AUC score, using the scores for the positive class\n",
    "# If y_score is 2-dimensional (e.g., [n_samples, 2] for binary outcomes), use the second column: y_score[:, 1]\n",
    "# If y_score is 1-dimensional (e.g., [n_samples]), use it directly\n",
    "auc_score = roc_auc_score(y_test, y_score[:, 1]) if len(y_score.shape) > 1 else roc_auc_score(y_test, y_score)\n",
    "\n",
    "# Create DataFrame\n",
    "df_metrics = pd.DataFrame(metrics_list, \n",
    "                          index=['Precision', 'Recall', 'F1-score', 'Support', 'AUC']).T\n",
    "\n",
    "# Initialize Accuracy column with NaNs or blanks\n",
    "df_metrics['Accuracy'] = ' '  # This avoids repeating the accuracy for each class\n",
    "\n",
    "# Adjust additional metrics dictionary to include the AUC and place Accuracy only in the macro average row\n",
    "additional_rows = [\n",
    "    {'Class': 'macro avg', 'Precision': macro_avg[0], 'Recall': macro_avg[1], 'F1-score': macro_avg[2], 'Support': ' ', 'AUC': auc_score, 'Accuracy': accuracy},\n",
    "    {'Class': 'weighted avg', 'Precision': weighted_avg[0], 'Recall': weighted_avg[1], 'F1-score': weighted_avg[2], 'Support': ' ', 'AUC': auc_score, 'Accuracy': ' '}\n",
    "]\n",
    "\n",
    "# Convert dictionary to DataFrame and concatenate with the existing one\n",
    "df_additional = pd.DataFrame(additional_rows)\n",
    "df_metrics_final = pd.concat([df_metrics, df_additional], ignore_index=True)\n",
    "\n",
    "# Adjust 'Class' column\n",
    "df_metrics_final['Class'] = df_metrics_final.index.map(lambda x: f'Class {x}' if x < len(df_metrics) else df_metrics_final.loc[x, 'Class'])\n",
    "\n",
    "# Rearrange columns to match desired output, including AUC and selectively showing Accuracy\n",
    "df_metrics_final = df_metrics_final[['Class', 'Precision', 'Recall', 'F1-score', 'AUC', 'Accuracy', 'Support']]\n",
    "\n",
    "print(df_metrics_final)\n",
    "df_metrics_final.to_csv(\"svm1k.csv\", index=False)"
   ]
  },
  {
   "cell_type": "code",
   "execution_count": 39,
   "id": "0e7f890e",
   "metadata": {},
   "outputs": [
    {
     "name": "stdout",
     "output_type": "stream",
     "text": [
      "Fitting 10 folds for each of 16 candidates, totalling 160 fits\n",
      "          Class  Precision    Recall  F1-score       AUC Accuracy Support\n",
      "0       Class 0   0.823529  0.567568  0.672000  0.748069             74.0\n",
      "1       Class 1   0.785235  0.928571  0.850909  0.748069            126.0\n",
      "2     macro avg   0.767960  0.694015  0.704026  0.810167    0.755        \n",
      "3  weighted avg   0.762049  0.755000  0.735961  0.810167                 \n"
     ]
    }
   ],
   "source": [
    "from sklearn.model_selection import GridSearchCV\n",
    "from sklearn.ensemble import RandomForestClassifier\n",
    "from sklearn.metrics import classification_report\n",
    "\n",
    "# Adjusting the parameter grid for RandomForestClassifier\n",
    "param_grid = {\n",
    "    'n_estimators': [10, 50, 100, 200],  # Number of trees in the forest\n",
    "    'max_depth': range(1, 5)  # Maximum depth of the tree\n",
    "}\n",
    "\n",
    "grid = GridSearchCV(RandomForestClassifier(random_state=0),\n",
    "                    param_grid=param_grid, cv=10, verbose=1, scoring='accuracy')\n",
    "\n",
    "# Fit to the training data\n",
    "grid.fit(X_train, y_train)\n",
    "\n",
    "# Predict on the test data\n",
    "y_pred = grid.predict(X_test)\n",
    "\n",
    "# For AUC-ROC, you need the probabilities of the positive class\n",
    "y_score = grid.predict_proba(X_test)[:, 1]\n",
    "# Calculate precision, recall, f1-score, and support for each class\n",
    "metrics = precision_recall_fscore_support(y_test, y_pred)\n",
    "\n",
    "# Calculate macro and weighted averages\n",
    "macro_avg = precision_recall_fscore_support(y_test, y_pred, average='macro')\n",
    "weighted_avg = precision_recall_fscore_support(y_test, y_pred, average='weighted')\n",
    "accuracy = accuracy_score(y_test, y_pred)\n",
    "\n",
    "# Calculate AUC score, using the scores for the positive class\n",
    "# If y_score is 2-dimensional (e.g., [n_samples, 2] for binary outcomes), use the second column: y_score[:, 1]\n",
    "# If y_score is 1-dimensional (e.g., [n_samples]), use it directly\n",
    "auc_score = roc_auc_score(y_test, y_score[:, 1]) if len(y_score.shape) > 1 else roc_auc_score(y_test, y_score)\n",
    "\n",
    "# Create DataFrame\n",
    "df_metrics = pd.DataFrame(metrics_list, \n",
    "                          index=['Precision', 'Recall', 'F1-score', 'Support', 'AUC']).T\n",
    "\n",
    "# Initialize Accuracy column with NaNs or blanks\n",
    "df_metrics['Accuracy'] = ' '  # This avoids repeating the accuracy for each class\n",
    "\n",
    "# Adjust additional metrics dictionary to include the AUC and place Accuracy only in the macro average row\n",
    "additional_rows = [\n",
    "    {'Class': 'macro avg', 'Precision': macro_avg[0], 'Recall': macro_avg[1], 'F1-score': macro_avg[2], 'Support': ' ', 'AUC': auc_score, 'Accuracy': accuracy},\n",
    "    {'Class': 'weighted avg', 'Precision': weighted_avg[0], 'Recall': weighted_avg[1], 'F1-score': weighted_avg[2], 'Support': ' ', 'AUC': auc_score, 'Accuracy': ' '}\n",
    "]\n",
    "\n",
    "# Convert dictionary to DataFrame and concatenate with the existing one\n",
    "df_additional = pd.DataFrame(additional_rows)\n",
    "df_metrics_final = pd.concat([df_metrics, df_additional], ignore_index=True)\n",
    "\n",
    "# Adjust 'Class' column\n",
    "df_metrics_final['Class'] = df_metrics_final.index.map(lambda x: f'Class {x}' if x < len(df_metrics) else df_metrics_final.loc[x, 'Class'])\n",
    "\n",
    "# Rearrange columns to match desired output, including AUC and selectively showing Accuracy\n",
    "df_metrics_final = df_metrics_final[['Class', 'Precision', 'Recall', 'F1-score', 'AUC', 'Accuracy', 'Support']]\n",
    "\n",
    "print(df_metrics_final)\n",
    "df_metrics_final.to_csv(\"rf1k.csv\", index=False)"
   ]
  }
 ],
 "metadata": {
  "kernelspec": {
   "display_name": "Python 3 (ipykernel)",
   "language": "python",
   "name": "python3"
  },
  "language_info": {
   "codemirror_mode": {
    "name": "ipython",
    "version": 3
   },
   "file_extension": ".py",
   "mimetype": "text/x-python",
   "name": "python",
   "nbconvert_exporter": "python",
   "pygments_lexer": "ipython3",
   "version": "3.11.5"
  }
 },
 "nbformat": 4,
 "nbformat_minor": 5
}
